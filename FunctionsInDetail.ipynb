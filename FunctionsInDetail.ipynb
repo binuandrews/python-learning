{
 "cells": [
  {
   "metadata": {},
   "cell_type": "markdown",
   "source": "# Functions",
   "id": "8ee59b004f3357bd"
  },
  {
   "metadata": {
    "ExecuteTime": {
     "end_time": "2025-02-25T04:20:47.899639Z",
     "start_time": "2025-02-25T04:20:40.206721Z"
    }
   },
   "cell_type": "code",
   "source": [
    "#Function basic demo\n",
    "\n",
    "def subtract(a,b):\n",
    "    \"\"\"  This function adds two numbers   \"\"\"\n",
    "    print(\"Calculating difference between of {} and {}\".format(a,b))\n",
    "    return a-b\n",
    "\n",
    "\n",
    "num1 = int(input(\"Enter the first number: \"))\n",
    "num2 = int(input(\"Enter the second number: \"))\n",
    "\n",
    "print(\"Result is \",subtract(b = num2, a = num1))    # Order specified explicitly\n",
    "print(\"Result is \",subtract(num1, num2))    # Default order maintained\n",
    "print(\"Result is \",subtract(num2, num1))    # Order reversed\n",
    "\n"
   ],
   "id": "3bb57e6dcc71837f",
   "outputs": [
    {
     "name": "stdout",
     "output_type": "stream",
     "text": [
      "Calculating difference between of 8 and 7\n",
      "Result is  1\n",
      "Calculating difference between of 8 and 7\n",
      "Result is  1\n",
      "Calculating difference between of 7 and 8\n",
      "Result is  -1\n"
     ]
    }
   ],
   "execution_count": 21
  },
  {
   "metadata": {
    "ExecuteTime": {
     "end_time": "2025-02-25T04:30:12.280166Z",
     "start_time": "2025-02-25T04:30:12.276660Z"
    }
   },
   "cell_type": "code",
   "source": [
    "# None Type demo\n",
    "def testFunction():\n",
    "  # This function is doing nothing.\n",
    "  pass\n",
    "  print(\"This will be printed\")\n",
    "  return\n",
    "  print(\"This will not be printed due to above return statement\")\n",
    "\n",
    "\n",
    "\n",
    "ret = testFunction()\n",
    "print(\"Printing ret value and type :\", ret, \"      \",type(ret))"
   ],
   "id": "795c07e4b8261ac9",
   "outputs": [
    {
     "name": "stdout",
     "output_type": "stream",
     "text": [
      "This will be printed\n",
      "Printing ret value and type : None        <class 'NoneType'>\n"
     ]
    }
   ],
   "execution_count": 25
  },
  {
   "metadata": {
    "ExecuteTime": {
     "end_time": "2025-02-25T04:33:12.184017Z",
     "start_time": "2025-02-25T04:33:12.182151Z"
    }
   },
   "cell_type": "code",
   "source": [
    "# return statement can return multiple values.\n",
    "\n",
    "def divideEachBy2(a, b):\n",
    "  return a/2, b/2\n",
    "\n",
    "print(divideEachBy2(10, 5))"
   ],
   "id": "de334b564d6ca1e0",
   "outputs": [
    {
     "name": "stdout",
     "output_type": "stream",
     "text": [
      "(5.0, 2.5)\n"
     ]
    }
   ],
   "execution_count": 27
  },
  {
   "metadata": {},
   "cell_type": "code",
   "outputs": [],
   "execution_count": null,
   "source": "",
   "id": "13f2f82a6a81fe52"
  }
 ],
 "metadata": {
  "kernelspec": {
   "display_name": "Python 3",
   "language": "python",
   "name": "python3"
  },
  "language_info": {
   "codemirror_mode": {
    "name": "ipython",
    "version": 2
   },
   "file_extension": ".py",
   "mimetype": "text/x-python",
   "name": "python",
   "nbconvert_exporter": "python",
   "pygments_lexer": "ipython2",
   "version": "2.7.6"
  }
 },
 "nbformat": 4,
 "nbformat_minor": 5
}
