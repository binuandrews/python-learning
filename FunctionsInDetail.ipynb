{
 "cells": [
  {
   "metadata": {},
   "cell_type": "markdown",
   "source": "# Functions",
   "id": "8ee59b004f3357bd"
  },
  {
   "metadata": {
    "ExecuteTime": {
     "end_time": "2025-02-24T01:57:02.102731Z",
     "start_time": "2025-02-24T01:56:55.771091Z"
    }
   },
   "cell_type": "code",
   "source": [
    "#Function basic demo\n",
    "\n",
    "def add(a,b):\n",
    "    \"\"\"  This function adds two numbers   \"\"\"\n",
    "    print(\"Calculating sum of {} and {}\".format(a,b))\n",
    "    return a+b\n",
    "\n",
    "\n",
    "num1 = int(input(\"Enter the first number: \"))\n",
    "num2 = int(input(\"Enter the second number: \"))\n",
    "result = add(num1,num2)\n",
    "print(\"Result is \",result)"
   ],
   "id": "3bb57e6dcc71837f",
   "outputs": [
    {
     "name": "stdout",
     "output_type": "stream",
     "text": [
      "Calculating sum of 1 and 3\n",
      "Result is  4\n"
     ]
    }
   ],
   "execution_count": 10
  },
  {
   "metadata": {
    "ExecuteTime": {
     "end_time": "2025-02-24T01:52:41.632333Z",
     "start_time": "2025-02-24T01:52:41.627583Z"
    }
   },
   "cell_type": "code",
   "source": "",
   "id": "238070960fb04b0d",
   "outputs": [],
   "execution_count": 7
  },
  {
   "metadata": {},
   "cell_type": "code",
   "outputs": [],
   "execution_count": null,
   "source": "",
   "id": "795c07e4b8261ac9"
  }
 ],
 "metadata": {
  "kernelspec": {
   "display_name": "Python 3",
   "language": "python",
   "name": "python3"
  },
  "language_info": {
   "codemirror_mode": {
    "name": "ipython",
    "version": 2
   },
   "file_extension": ".py",
   "mimetype": "text/x-python",
   "name": "python",
   "nbconvert_exporter": "python",
   "pygments_lexer": "ipython2",
   "version": "2.7.6"
  }
 },
 "nbformat": 4,
 "nbformat_minor": 5
}
