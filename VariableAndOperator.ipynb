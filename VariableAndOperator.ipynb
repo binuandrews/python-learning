{
 "cells": [
  {
   "metadata": {},
   "cell_type": "markdown",
   "source": "# Basics of python",
   "id": "b86ddd620a6798bc"
  },
  {
   "metadata": {},
   "cell_type": "markdown",
   "source": "$a = b + c+d$",
   "id": "1c0481b2df2e7c71"
  },
  {
   "metadata": {},
   "cell_type": "markdown",
   "source": "# this is a test",
   "id": "4c03796e5bb4182d"
  },
  {
   "metadata": {
    "ExecuteTime": {
     "end_time": "2025-02-22T13:40:28.788115Z",
     "start_time": "2025-02-22T13:40:28.785408Z"
    }
   },
   "cell_type": "code",
   "source": "print(\"Hello World\")",
   "id": "85971b2bf2719cf4",
   "outputs": [
    {
     "name": "stdout",
     "output_type": "stream",
     "text": [
      "Hello World\n"
     ]
    }
   ],
   "execution_count": 1
  },
  {
   "metadata": {},
   "cell_type": "markdown",
   "source": "# Variables",
   "id": "aff5344e59cbffd8"
  },
  {
   "metadata": {
    "ExecuteTime": {
     "end_time": "2025-02-22T10:58:36.062914Z",
     "start_time": "2025-02-22T10:58:36.060217Z"
    }
   },
   "cell_type": "code",
   "source": [
    "total = 26049\n",
    "water = 849\n",
    "print(total-water-23100)"
   ],
   "id": "c744d9dbe8c2b615",
   "outputs": [
    {
     "name": "stdout",
     "output_type": "stream",
     "text": [
      "2100\n"
     ]
    }
   ],
   "execution_count": 11
  },
  {
   "metadata": {
    "ExecuteTime": {
     "end_time": "2025-02-22T10:59:08.194480Z",
     "start_time": "2025-02-22T10:59:08.181797Z"
    }
   },
   "cell_type": "code",
   "source": [
    "%whos\n",
    "print(\"*************\")\n",
    "print(type(total))\n",
    "total = \"Changed\"\n",
    "print(\"*************\")\n",
    "print(type(total))\n",
    "del total\n",
    "print(type(total))\n"
   ],
   "id": "ff291e69c191e6ba",
   "outputs": [
    {
     "name": "stdout",
     "output_type": "stream",
     "text": [
      "Variable                        Type        Data/Info\n",
      "-----------------------------------------------------\n",
      "a                               int         10\n",
      "b                               int         20\n",
      "pydev_jupyter_vars              module      <module 'pydev_jupyter_va<...>g/pydev_jupyter_vars.py'>\n",
      "remove_imported_pydev_package   function    <function remove_imported<...>v_package at 0x103cf2340>\n",
      "sumOfAandB                      int         30\n",
      "sys                             module      <module 'sys' (built-in)>\n",
      "water                           int         849\n",
      "*************\n"
     ]
    },
    {
     "ename": "NameError",
     "evalue": "name 'total' is not defined",
     "output_type": "error",
     "traceback": [
      "\u001B[0;31m---------------------------------------------------------------------------\u001B[0m",
      "\u001B[0;31mNameError\u001B[0m                                 Traceback (most recent call last)",
      "Cell \u001B[0;32mIn[13], line 3\u001B[0m\n\u001B[1;32m      1\u001B[0m get_ipython()\u001B[38;5;241m.\u001B[39mrun_line_magic(\u001B[38;5;124m'\u001B[39m\u001B[38;5;124mwhos\u001B[39m\u001B[38;5;124m'\u001B[39m, \u001B[38;5;124m'\u001B[39m\u001B[38;5;124m'\u001B[39m)\n\u001B[1;32m      2\u001B[0m \u001B[38;5;28mprint\u001B[39m(\u001B[38;5;124m\"\u001B[39m\u001B[38;5;124m*************\u001B[39m\u001B[38;5;124m\"\u001B[39m)\n\u001B[0;32m----> 3\u001B[0m \u001B[38;5;28mprint\u001B[39m(\u001B[38;5;28mtype\u001B[39m(total))\n\u001B[1;32m      4\u001B[0m total \u001B[38;5;241m=\u001B[39m \u001B[38;5;124m\"\u001B[39m\u001B[38;5;124mChanged\u001B[39m\u001B[38;5;124m\"\u001B[39m\n\u001B[1;32m      5\u001B[0m \u001B[38;5;28mprint\u001B[39m(\u001B[38;5;124m\"\u001B[39m\u001B[38;5;124m*************\u001B[39m\u001B[38;5;124m\"\u001B[39m)\n",
      "\u001B[0;31mNameError\u001B[0m: name 'total' is not defined"
     ]
    }
   ],
   "execution_count": 13
  },
  {
   "metadata": {},
   "cell_type": "markdown",
   "source": "# Operators",
   "id": "1a44df9cfedd556d"
  },
  {
   "metadata": {
    "ExecuteTime": {
     "end_time": "2025-01-06T03:53:07.334248Z",
     "start_time": "2025-01-06T03:53:07.330953Z"
    }
   },
   "cell_type": "code",
   "source": "%whos",
   "id": "24e64fe29c25495f",
   "outputs": [
    {
     "name": "stdout",
     "output_type": "stream",
     "text": [
      "Variable                        Type        Data/Info\n",
      "-----------------------------------------------------\n",
      "pydev_jupyter_vars              module      <module 'pydev_jupyter_va<...>g/pydev_jupyter_vars.py'>\n",
      "remove_imported_pydev_package   function    <function remove_imported<...>v_package at 0x105b25a80>\n",
      "sys                             module      <module 'sys' (built-in)>\n",
      "water                           int         849\n",
      "x                               int         3\n"
     ]
    }
   ],
   "execution_count": 28
  },
  {
   "metadata": {
    "ExecuteTime": {
     "end_time": "2025-02-22T11:01:59.190607Z",
     "start_time": "2025-02-22T11:01:59.187183Z"
    }
   },
   "cell_type": "code",
   "source": [
    "a = 10\n",
    "b = 20\n",
    "sumOfAandB =a + b\n",
    "print(sumOfAandB)\n",
    "print(type(sumOfAandB))\n",
    "\n",
    "b = \" Andrews\"\n",
    "a = \"Binu\"\n",
    "sumOfAandB=a+b\n",
    "print(sumOfAandB)\n",
    "print(type(a+b))"
   ],
   "id": "e5a5465c4931097e",
   "outputs": [
    {
     "name": "stdout",
     "output_type": "stream",
     "text": [
      "30\n",
      "<class 'int'>\n",
      "Binu Andrews\n",
      "<class 'str'>\n"
     ]
    }
   ],
   "execution_count": 22
  },
  {
   "metadata": {
    "ExecuteTime": {
     "end_time": "2025-02-22T11:09:48.099897Z",
     "start_time": "2025-02-22T11:09:48.095541Z"
    }
   },
   "cell_type": "code",
   "source": [
    "print(2**3)\n",
    "print(7//3)  #floor value\n",
    "print(7%3)  #reminder\n",
    "print(\"Binu\", \"Andrews\")\n",
    "7%3"
   ],
   "id": "6b9b54d2e20c4bb7",
   "outputs": [
    {
     "name": "stdout",
     "output_type": "stream",
     "text": [
      "8\n",
      "2\n",
      "1\n",
      "Binu Andrews\n"
     ]
    },
    {
     "data": {
      "text/plain": [
       "1"
      ]
     },
     "execution_count": 39,
     "metadata": {},
     "output_type": "execute_result"
    }
   ],
   "execution_count": 39
  },
  {
   "metadata": {},
   "cell_type": "markdown",
   "source": "# Boolean demo",
   "id": "f3af5996d1b07cf"
  },
  {
   "metadata": {
    "ExecuteTime": {
     "end_time": "2025-02-22T11:50:38.278339Z",
     "start_time": "2025-02-22T11:50:38.275188Z"
    }
   },
   "cell_type": "code",
   "source": [
    "a = True\n",
    "b = True\n",
    "c = False\n",
    "print(type(a))\n",
    "d = 'Binu'\n",
    "print(b+b)\n",
    "print(type(b+b))\n",
    "print(b, not(b))"
   ],
   "id": "1102bc7f1b598cbf",
   "outputs": [
    {
     "name": "stdout",
     "output_type": "stream",
     "text": [
      "<class 'bool'>\n",
      "2\n",
      "<class 'int'>\n",
      "True False\n"
     ]
    }
   ],
   "execution_count": 48
  },
  {
   "metadata": {
    "ExecuteTime": {
     "end_time": "2025-02-22T11:55:21.439494Z",
     "start_time": "2025-02-22T11:55:21.436420Z"
    }
   },
   "cell_type": "code",
   "source": [
    "print(a and c)\n",
    "print(a or c)\n",
    "print(a and not(c))\n",
    "%whos"
   ],
   "id": "b1192e79ed19fb9e",
   "outputs": [
    {
     "name": "stdout",
     "output_type": "stream",
     "text": [
      "False\n",
      "True\n",
      "True\n",
      "Variable                        Type        Data/Info\n",
      "-----------------------------------------------------\n",
      "a                               bool        True\n",
      "b                               bool        True\n",
      "c                               bool        False\n",
      "d                               str         Binu\n",
      "pydev_jupyter_vars              module      <module 'pydev_jupyter_va<...>g/pydev_jupyter_vars.py'>\n",
      "remove_imported_pydev_package   function    <function remove_imported<...>v_package at 0x103cf2340>\n",
      "sumOfAandB                      str         Binu Andrews\n",
      "sys                             module      <module 'sys' (built-in)>\n",
      "water                           int         849\n"
     ]
    }
   ],
   "execution_count": 49
  },
  {
   "metadata": {},
   "cell_type": "markdown",
   "source": "# Comparision",
   "id": "5a24c5b5863ab76f"
  },
  {
   "metadata": {
    "ExecuteTime": {
     "end_time": "2025-02-22T12:23:14.423934Z",
     "start_time": "2025-02-22T12:23:14.421694Z"
    }
   },
   "cell_type": "code",
   "source": [
    "c = 3 == 3\n",
    "print(c)\n",
    "\n",
    "print('Binu' >=  'Andrews')\n",
    "print('Andrews' >=  'Binu')\n",
    "\n",
    "print(3.1 <= 3)\n",
    "\n",
    "print(True > False)\n",
    "\n",
    "print(True and False or True) # Always the precedence is for and, then or\n"
   ],
   "id": "e939bce10c10440e",
   "outputs": [
    {
     "name": "stdout",
     "output_type": "stream",
     "text": [
      "True\n",
      "True\n",
      "False\n",
      "False\n",
      "True\n",
      "True\n"
     ]
    }
   ],
   "execution_count": 72
  },
  {
   "metadata": {
    "ExecuteTime": {
     "end_time": "2025-02-22T13:40:34.989908Z",
     "start_time": "2025-02-22T13:40:34.984457Z"
    }
   },
   "cell_type": "code",
   "source": "True or True and False",
   "id": "96b758e107477606",
   "outputs": [
    {
     "data": {
      "text/plain": [
       "True"
      ]
     },
     "execution_count": 2,
     "metadata": {},
     "output_type": "execute_result"
    }
   ],
   "execution_count": 2
  },
  {
   "metadata": {},
   "cell_type": "code",
   "outputs": [],
   "execution_count": null,
   "source": "",
   "id": "ffadc70c860c2449"
  }
 ],
 "metadata": {
  "kernelspec": {
   "display_name": "Python 3",
   "language": "python",
   "name": "python3"
  },
  "language_info": {
   "codemirror_mode": {
    "name": "ipython",
    "version": 2
   },
   "file_extension": ".py",
   "mimetype": "text/x-python",
   "name": "python",
   "nbconvert_exporter": "python",
   "pygments_lexer": "ipython2",
   "version": "2.7.6"
  }
 },
 "nbformat": 4,
 "nbformat_minor": 5
}
