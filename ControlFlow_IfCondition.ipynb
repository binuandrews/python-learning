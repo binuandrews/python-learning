{
 "cells": [
  {
   "metadata": {},
   "cell_type": "markdown",
   "source": "# Control Flow",
   "id": "401ce2450c45d4fa"
  },
  {
   "metadata": {},
   "cell_type": "markdown",
   "source": "# Print largest amoong 2",
   "id": "c245368aa672a23f"
  },
  {
   "metadata": {},
   "cell_type": "code",
   "source": [
    "minValue = int(input(\"Enter the first number: \"))\n",
    "b = int(input(\"Enter the second number: \"))\n",
    "if minValue > b:\n",
    "  print(minValue, \" Is greater than \", b)\n",
    "  print(\"Inside if\")\n",
    "else:\n",
    "  print(minValue, \" Is not greater than \", b)\n",
    "  print(\"Inside else\")"
   ],
   "id": "e0af1d05f8f593c8",
   "outputs": [],
   "execution_count": null
  },
  {
   "metadata": {},
   "cell_type": "code",
   "source": [
    "# One line comment\n",
    "'''This is a code to find\n",
    "the largest number among 2 numbers'''\n",
    "\n",
    "minValue = int(input(\"Enter the first number: \"))\n",
    "b = int(input(\"Enter the second number: \"))\n",
    "if minValue > b:\n",
    "  print(minValue, \" Is greater than \", b)\n",
    "  print(\"Inside if\")\n",
    "elif minValue == b:\n",
    "  print(minValue, \" and  \", b, \" are equal\")\n",
    "  print(\"Inside elif\")\n",
    "else:\n",
    "  print(b, \" greater than \", minValue)\n",
    "  print(\"Inside else\")"
   ],
   "id": "4affaa18ff439ef2",
   "outputs": [],
   "execution_count": null
  },
  {
   "metadata": {},
   "cell_type": "markdown",
   "source": "# While Loop",
   "id": "43ee4761b4f1d612"
  },
  {
   "metadata": {},
   "cell_type": "code",
   "source": [
    "''' To demo break and continue\n",
    "'''\n",
    "\n",
    "n = int(input(\"Enter the number of iterations: \"))\n",
    "i = 1;\n",
    "while True:\n",
    "  if(i <=10):\n",
    "    print(i, \"Is less than \", n, end=\"\\n\")\n",
    "    i+=1\n",
    "    continue\n",
    "    print(\"Skipping this line. This will not be printed\")\n",
    "  else:\n",
    "    print(i, \"Limit Exceeded breaking\",end=\"\")\n",
    "    break\n",
    "\n",
    "print(\"End of while\")\n",
    "print(\"***********end of program****************\")"
   ],
   "id": "569c12eb2c8a0274",
   "outputs": [],
   "execution_count": null
  },
  {
   "metadata": {},
   "cell_type": "markdown",
   "source": "# For loop demo",
   "id": "f645b4335ebe17ab"
  },
  {
   "metadata": {
    "ExecuteTime": {
     "end_time": "2025-02-23T07:04:10.603339Z",
     "start_time": "2025-02-23T07:04:10.598826Z"
    }
   },
   "cell_type": "code",
   "source": [
    "# for loop demo 1\n",
    "myList = []\n",
    "for i in range(10, 0, -1):\n",
    "  myList.append(i)\n",
    "  print(i)\n",
    "print(myList)"
   ],
   "id": "3b415e51e3df1fa7",
   "outputs": [
    {
     "name": "stdout",
     "output_type": "stream",
     "text": [
      "10\n",
      "9\n",
      "8\n",
      "7\n",
      "6\n",
      "5\n",
      "4\n",
      "3\n",
      "2\n",
      "1\n",
      "[10, 9, 8, 7, 6, 5, 4, 3, 2, 1]\n"
     ]
    }
   ],
   "execution_count": 35
  },
  {
   "metadata": {
    "ExecuteTime": {
     "end_time": "2025-02-23T12:37:19.489337Z",
     "start_time": "2025-02-23T12:37:19.487061Z"
    }
   },
   "cell_type": "code",
   "source": [
    "# for loop demo 2\n",
    "mySet = set(myList)\n",
    "print(mySet)\n",
    "mySet = {\"Apple\", 1, 2, \"Orange\", round(10.3)}\n",
    "for item in mySet:\n",
    "  print(item)\n",
    "else:  # Else will be executed once the for loop iterations are over\n",
    "  print(\"********Loop completed*********\", end=\"\\n\")"
   ],
   "id": "1f4271c5413f6e05",
   "outputs": [
    {
     "name": "stdout",
     "output_type": "stream",
     "text": [
      "{1, 2, 3, 4, 5, 6, 7, 8, 9, 10}\n",
      "1\n",
      "2\n",
      "Orange\n",
      "Apple\n",
      "10\n",
      "********Loop completed*********\n"
     ]
    }
   ],
   "execution_count": 49
  },
  {
   "metadata": {
    "ExecuteTime": {
     "end_time": "2025-02-26T17:50:56.136509Z",
     "start_time": "2025-02-26T17:50:56.133740Z"
    }
   },
   "cell_type": "code",
   "source": [
    "# For loop Demo 3\n",
    "\n",
    "myDict = {\"001\": \"Apple\",\n",
    "          \"002\": \"Orange\",\n",
    "          \"003\": \"Pineapple\"}\n",
    "\n",
    "\n",
    "for key, value in myDict.items():\n",
    "  print(key, value)\n",
    "\n",
    "\n",
    "print(\"****************\")\n",
    "for item in myDict:\n",
    "  print(item, myDict[item])\n",
    "print(\"***************\")\n",
    "print(myDict[\"001\"], myDict[\"003\"])"
   ],
   "id": "659bb1ec902b40d0",
   "outputs": [
    {
     "name": "stdout",
     "output_type": "stream",
     "text": [
      "****************\n",
      "001 Apple\n",
      "002 Orange\n",
      "003 Pineapple\n",
      "***************\n",
      "Apple Pineapple\n"
     ]
    }
   ],
   "execution_count": 156
  },
  {
   "metadata": {},
   "cell_type": "markdown",
   "source": "# Sorting problem solution",
   "id": "88710338e70147ba"
  },
  {
   "metadata": {
    "ExecuteTime": {
     "end_time": "2025-02-26T18:19:13.448022Z",
     "start_time": "2025-02-26T18:19:13.444274Z"
    }
   },
   "cell_type": "code",
   "source": [
    "#Sorting\n",
    "myList = [9,30,56,-10, 7, 21.1, 10]\n",
    "\n",
    "for i in range(0, len(myList)):\n",
    "  minValue = myList[i]\n",
    "  idxMin = i\n",
    "  for x in range(i, len(myList)):\n",
    "    if myList[x] < minValue:\n",
    "      minValue = myList[x]\n",
    "      idxMin = x\n",
    "  tmp = myList[i]\n",
    "  myList[i] = myList[idxMin]\n",
    "  myList[idxMin] = tmp\n",
    "\n",
    "print(myList)"
   ],
   "id": "938a5b4e3f50f9c0",
   "outputs": [
    {
     "name": "stdout",
     "output_type": "stream",
     "text": [
      "[-10, 7, 9, 10, 21.1, 30, 56]\n"
     ]
    }
   ],
   "execution_count": 3
  },
  {
   "metadata": {},
   "cell_type": "markdown",
   "source": "",
   "id": "23fce0b73b0a67d7"
  }
 ],
 "metadata": {
  "kernelspec": {
   "display_name": "Python 3",
   "language": "python",
   "name": "python3"
  },
  "language_info": {
   "codemirror_mode": {
    "name": "ipython",
    "version": 2
   },
   "file_extension": ".py",
   "mimetype": "text/x-python",
   "name": "python",
   "nbconvert_exporter": "python",
   "pygments_lexer": "ipython2",
   "version": "2.7.6"
  }
 },
 "nbformat": 4,
 "nbformat_minor": 5
}
