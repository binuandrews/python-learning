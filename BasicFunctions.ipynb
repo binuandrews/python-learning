{
 "cells": [
  {
   "metadata": {},
   "cell_type": "markdown",
   "source": "# Functions round",
   "id": "79ddd00a302c2c79"
  },
  {
   "metadata": {
    "ExecuteTime": {
     "end_time": "2025-02-22T13:54:40.715701Z",
     "start_time": "2025-02-22T13:54:40.711819Z"
    }
   },
   "cell_type": "code",
   "source": [
    "print(round(2.4))\n",
    "print(round(2.6))\n",
    "print(round(2.7872888,2))\n"
   ],
   "id": "d8be1fd88c2879d5",
   "outputs": [
    {
     "name": "stdout",
     "output_type": "stream",
     "text": [
      "2\n",
      "3\n",
      "2.79\n",
      "(3, 7)\n",
      "<class 'tuple'>\n",
      "3\n"
     ]
    }
   ],
   "execution_count": 17
  },
  {
   "metadata": {},
   "cell_type": "markdown",
   "source": "# divmod function",
   "id": "37b438c6005fd6ff"
  },
  {
   "metadata": {
    "ExecuteTime": {
     "end_time": "2025-02-22T13:57:52.793383Z",
     "start_time": "2025-02-22T13:57:52.787854Z"
    }
   },
   "cell_type": "code",
   "source": [
    "print(divmod(34,9))\n",
    "\n",
    "\n",
    "print(type(divmod(34,9)))\n",
    "\n",
    "print(divmod(34,9)[0])"
   ],
   "id": "328cbde4607b9348",
   "outputs": [
    {
     "name": "stdout",
     "output_type": "stream",
     "text": [
      "(3, 7)\n",
      "<class 'tuple'>\n",
      "3\n"
     ]
    }
   ],
   "execution_count": 18
  },
  {
   "metadata": {
    "ExecuteTime": {
     "end_time": "2025-02-22T14:00:00.330459Z",
     "start_time": "2025-02-22T14:00:00.326512Z"
    }
   },
   "cell_type": "code",
   "source": [
    "myTuple = divmod(34,9)\n",
    "isinstance(myTuple, tuple)\n",
    "print(\"Test \", isinstance(myTuple, tuple))"
   ],
   "id": "d362414457371c20",
   "outputs": [
    {
     "name": "stdout",
     "output_type": "stream",
     "text": [
      "Test  True\n"
     ]
    }
   ],
   "execution_count": 21
  },
  {
   "metadata": {
    "ExecuteTime": {
     "end_time": "2025-02-22T14:02:17.200575Z",
     "start_time": "2025-02-22T14:02:17.196694Z"
    }
   },
   "cell_type": "code",
   "source": "print(isinstance(2+3j, (int, float, bool, complex)))",
   "id": "7b0e73a9bbad6bce",
   "outputs": [
    {
     "name": "stdout",
     "output_type": "stream",
     "text": [
      "True\n"
     ]
    }
   ],
   "execution_count": 25
  },
  {
   "metadata": {
    "ExecuteTime": {
     "end_time": "2025-02-22T14:03:55.391909Z",
     "start_time": "2025-02-22T14:03:55.388973Z"
    }
   },
   "cell_type": "code",
   "source": [
    "pow(3, 3)\n",
    "\n",
    "pow(3, 3, 4) # First calculate 3**3 then divide by 4 and return the reminder."
   ],
   "id": "b28cd0a8cf8e68d8",
   "outputs": [
    {
     "data": {
      "text/plain": [
       "3"
      ]
     },
     "execution_count": 29,
     "metadata": {},
     "output_type": "execute_result"
    }
   ],
   "execution_count": 29
  },
  {
   "metadata": {},
   "cell_type": "markdown",
   "source": "# input() function",
   "id": "5477a1c2101f2da2"
  },
  {
   "metadata": {
    "ExecuteTime": {
     "end_time": "2025-02-22T17:18:15.811085Z",
     "start_time": "2025-02-22T17:18:04.174994Z"
    }
   },
   "cell_type": "code",
   "source": [
    "a = input(\"Enter the first number: \")\n",
    "b = input(\"Enter the second number: \")"
   ],
   "id": "ec91aac75b789784",
   "outputs": [],
   "execution_count": 33
  },
  {
   "metadata": {
    "ExecuteTime": {
     "end_time": "2025-02-22T17:18:51.148969Z",
     "start_time": "2025-02-22T17:18:51.145412Z"
    }
   },
   "cell_type": "code",
   "source": [
    "print(a)\n",
    "print(b)\n",
    "print(a+b)\n",
    "print(type(a+b))"
   ],
   "id": "99abfc3fa6b36015",
   "outputs": [
    {
     "name": "stdout",
     "output_type": "stream",
     "text": [
      "2\n",
      "3\n",
      "23\n",
      "<class 'str'>\n"
     ]
    }
   ],
   "execution_count": 35
  },
  {
   "metadata": {
    "ExecuteTime": {
     "end_time": "2025-02-22T17:20:35.458846Z",
     "start_time": "2025-02-22T17:20:35.455537Z"
    }
   },
   "cell_type": "code",
   "source": [
    "a = int(a)\n",
    "b = int(b)\n",
    "print(a, b)\n",
    "print(a+b)\n",
    "print(type(a+b))"
   ],
   "id": "8dbd149cab5b8e05",
   "outputs": [
    {
     "name": "stdout",
     "output_type": "stream",
     "text": [
      "2 3\n",
      "5\n",
      "<class 'int'>\n"
     ]
    }
   ],
   "execution_count": 38
  },
  {
   "metadata": {
    "ExecuteTime": {
     "end_time": "2025-02-22T17:23:03.166277Z",
     "start_time": "2025-02-22T17:22:50.109613Z"
    }
   },
   "cell_type": "code",
   "source": [
    "price = input(\"Enter the price: \")\n",
    "price = round(float(price),2)\n",
    "print(price+1)\n",
    "print(type(price))"
   ],
   "id": "79cad328c6b55dcd",
   "outputs": [
    {
     "name": "stdout",
     "output_type": "stream",
     "text": [
      "35.78\n",
      "<class 'float'>\n"
     ]
    }
   ],
   "execution_count": 41
  },
  {
   "metadata": {
    "ExecuteTime": {
     "end_time": "2025-02-22T17:26:51.105083Z",
     "start_time": "2025-02-22T17:26:51.100364Z"
    }
   },
   "cell_type": "code",
   "source": "",
   "id": "b31838fa1cffb091",
   "outputs": [],
   "execution_count": 44
  },
  {
   "metadata": {},
   "cell_type": "code",
   "outputs": [],
   "execution_count": null,
   "source": "",
   "id": "6973e7274a600d51"
  }
 ],
 "metadata": {
  "kernelspec": {
   "display_name": "Python 3",
   "language": "python",
   "name": "python3"
  },
  "language_info": {
   "codemirror_mode": {
    "name": "ipython",
    "version": 2
   },
   "file_extension": ".py",
   "mimetype": "text/x-python",
   "name": "python",
   "nbconvert_exporter": "python",
   "pygments_lexer": "ipython2",
   "version": "2.7.6"
  }
 },
 "nbformat": 4,
 "nbformat_minor": 5
}
